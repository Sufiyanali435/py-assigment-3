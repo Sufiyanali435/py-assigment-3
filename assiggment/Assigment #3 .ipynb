{
 "cells": [
  {
   "cell_type": "code",
   "execution_count": 3,
   "id": "9d071ac6",
   "metadata": {},
   "outputs": [
    {
     "name": "stdout",
     "output_type": "stream",
     "text": [
      "Twinkle,Twinkle Little Stars\n",
      "        How I Wounder What You Are\n",
      "                 Up above the world so high,\n",
      "                 Like a diamond in the sky.\n",
      "Twinkle, twinkle, little star,\n",
      "        How I wonder what you\n"
     ]
    }
   ],
   "source": [
    "'''Write a Python program to print the following string in a specific format (see the\n",
    " output)'''\n",
    "\n",
    "print(\"Twinkle,Twinkle Little Stars\")\n",
    "print(\"        How I Wounder What You Are\")\n",
    "print(\"                 Up above the world so high,\")\n",
    "print(\"                 Like a diamond in the sky.\")\n",
    "print(\"Twinkle, twinkle, little star,\")\n",
    "print(\"        How I wonder what you\")"
   ]
  },
  {
   "cell_type": "code",
   "execution_count": 4,
   "id": "69336b47",
   "metadata": {},
   "outputs": [
    {
     "name": "stdout",
     "output_type": "stream",
     "text": [
      "3.8.8 (default, Apr 13 2021, 15:08:07) [MSC v.1916 32 bit (Intel)]\n"
     ]
    }
   ],
   "source": [
    "# Write a Python program to get the Python Version you are using\n",
    "\n",
    "import sys\n",
    "print(sys.version)"
   ]
  },
  {
   "cell_type": "code",
   "execution_count": 6,
   "id": "9ab84c39",
   "metadata": {},
   "outputs": [
    {
     "name": "stdout",
     "output_type": "stream",
     "text": [
      "CURRENT DATE AND TIME\n",
      "2021-10-22 19:26:33.299726\n"
     ]
    }
   ],
   "source": [
    "import datetime\n",
    "\n",
    "Time_date = datetime.datetime.now()\n",
    "print(\"CURRENT DATE AND TIME\")\n",
    "print(Time_date)"
   ]
  },
  {
   "cell_type": "code",
   "execution_count": 6,
   "id": "6f822237",
   "metadata": {},
   "outputs": [
    {
     "name": "stdout",
     "output_type": "stream",
     "text": [
      "Enter Radius:  33\n",
      "AREA OF CIRCLE IS:\n",
      "3421.194399759285\n"
     ]
    }
   ],
   "source": [
    "'''Write a Python program which accepts the radius of a circle from the user and compute\n",
    "the area.'''\n",
    "\n",
    "import math\n",
    "\n",
    "Radius = float(input(\"Enter Radius:  \"));\n",
    "\n",
    "Area = math.pi * Radius * Radius\n",
    "\n",
    "print(\"AREA OF CIRCLE IS:\");\n",
    "print(Area);      "
   ]
  },
  {
   "cell_type": "code",
   "execution_count": 7,
   "id": "2c146ef4",
   "metadata": {},
   "outputs": [
    {
     "name": "stdout",
     "output_type": "stream",
     "text": [
      "Enter First Name:sufiyan\n",
      "Enter last Name:ali\n",
      "ali sufiyan\n"
     ]
    }
   ],
   "source": [
    "'''Write a Python program which accepts the user's first and last name and print them in\n",
    "reverse order with a space between them.'''\n",
    "\n",
    "firstName = input(\"Enter First Name:\");\n",
    "lastName = input(\"Enter last Name:\");\n",
    "\n",
    "print(lastName + \" \" + firstName)"
   ]
  },
  {
   "cell_type": "code",
   "execution_count": 9,
   "id": "ce2fffef",
   "metadata": {},
   "outputs": [
    {
     "name": "stdout",
     "output_type": "stream",
     "text": [
      "Enter value1:2\n",
      "Enter value2:3\n",
      "2 + 3 = 5\n"
     ]
    }
   ],
   "source": [
    "# Write a python program which takes two inputs from user and print them addition\n",
    "\n",
    "value1 = int(input(\"Enter value1:\"))\n",
    "value2 = int(input(\"Enter value2:\"))\n",
    "\n",
    "ans = value1 + value2\n",
    "print(value1,\"+\",value2,\"=\",ans)\n"
   ]
  },
  {
   "cell_type": "code",
   "execution_count": 12,
   "id": "b8646f7e",
   "metadata": {},
   "outputs": [
    {
     "name": "stdout",
     "output_type": "stream",
     "text": [
      "Enter Urdu Marks44\n",
      "Enter Islamiyat Marks: 55\n",
      "Enter English Marks: 99\n",
      "Enter Maths Marks: 88\n",
      "Enter PST Marks: 77\n",
      "--------------MARKSHEET--------------\n",
      "Obtained Marks:242\n",
      "Percentage:80.66666666666666\n",
      "GRADE A+\n",
      "REMARKS: EXELENT\n"
     ]
    }
   ],
   "source": [
    "Urdu = int(input(\"Enter Urdu Marks\"))\n",
    "Islamiyat = int(input(\"Enter Islamiyat Marks: \"))\n",
    "English = int(input(\"Enter English Marks: \"))\n",
    "Maths = int(input(\"Enter Maths Marks: \"))\n",
    "PST = int(input(\"Enter PST Marks: \"))\n",
    "Obtained_Marks = Islamiyat + English + Maths;\n",
    "percentage = Obtained_Marks / 300 * 100;\n",
    "\n",
    "print(\"--------------MARKSHEET--------------\");\n",
    "print(\"Obtained Marks:\" + str(Obtained_Marks))\n",
    "print(\"Percentage:\" + str(percentage))\n",
    "\n",
    "if percentage >= 80:\n",
    "    print(\"GRADE A+\");\n",
    "    print(\"REMARKS: EXELENT\");\n",
    "elif percentage >= 70:\n",
    "    print(\"GRADE A\");\n",
    "    print(\"REMARKS: VERY GOOD\");\n",
    "\n",
    "elif percentage >= 60:\n",
    "    print(\"GRADE B\");\n",
    "    print(\"REMARKS: GOOD\");\n",
    "    \n",
    "elif percentage >= 50:\n",
    "    print(\"GRADE C\");\n",
    "    print(\"REMARKS: FAIR\");\n",
    "    \n",
    "elif percentage >= 40:\n",
    "     print(\"GRADE D\");\n",
    "     print(\"REMARKS: POOR\");\n",
    "\n",
    "elif percentage >= 33:\n",
    "     print(\"GRADE E\");\n",
    "     print(\"REMARKS: NEED IMPROVEMENT\");\n",
    "elif percentage > 100:\n",
    "    print(\" You've Enter Wrong Number\")\n",
    "else:\n",
    "    print(\"GRADE F (FAIL)\")\n",
    "    print(\"REMARKS: VERY BAD\");"
   ]
  },
  {
   "cell_type": "code",
   "execution_count": 14,
   "id": "6d6d79eb",
   "metadata": {},
   "outputs": [
    {
     "name": "stdout",
     "output_type": "stream",
     "text": [
      "Enter Number:4\n",
      "4 is an even number\n"
     ]
    }
   ],
   "source": [
    "'''Write a program which take input from user and identify that the given number is even\n",
    "or odd?'''\n",
    "Number = int(input(\"Enter Number:\"))\n",
    "remainder = Number % 2\n",
    "\n",
    "if (remainder == 0):\n",
    "    print(Number,\"is an even number\")\n",
    "else:\n",
    "    print(Number,\"is an odd number\")\n",
    "    \n",
    "\n"
   ]
  },
  {
   "cell_type": "code",
   "execution_count": 18,
   "id": "e682c60c",
   "metadata": {},
   "outputs": [
    {
     "name": "stdout",
     "output_type": "stream",
     "text": [
      "5\n"
     ]
    }
   ],
   "source": [
    "#Write a program which print the length of the list?\n",
    "arr = [\"banana\",\"apple\",6,8,\"keyboard\"]\n",
    "\n",
    "count = 0\n",
    "for i in arr:\n",
    "    count = count + 1\n",
    "print(count)    "
   ]
  },
  {
   "cell_type": "code",
   "execution_count": 21,
   "id": "da09b000",
   "metadata": {},
   "outputs": [
    {
     "name": "stdout",
     "output_type": "stream",
     "text": [
      "sum of element in arr2 is: 26\n"
     ]
    }
   ],
   "source": [
    "#Write a Python program to sum all the numeric items in a list?\n",
    "\n",
    "arr2 = [4,5,5,7,3,2]\n",
    "ans = sum(arr2)\n",
    "print(\"sum of element in arr2 is:\",ans)"
   ]
  },
  {
   "cell_type": "code",
   "execution_count": 25,
   "id": "337ba2df",
   "metadata": {},
   "outputs": [
    {
     "name": "stdout",
     "output_type": "stream",
     "text": [
      "The largest number is: 88\n"
     ]
    }
   ],
   "source": [
    "# Write a Python program to get the largest number from a numeric list.\n",
    "arr3 = [3,4,6,77,33,88,34,33,84,36]\n",
    "\n",
    "print(\"The largest number is:\",max(arr3)"
   ]
  },
  {
   "cell_type": "code",
   "execution_count": 1,
   "id": "576d6977",
   "metadata": {},
   "outputs": [
    {
     "name": "stdout",
     "output_type": "stream",
     "text": [
      "1\n",
      "1\n",
      "2\n",
      "3\n"
     ]
    }
   ],
   "source": [
    "# Write a program that prints out all the elements of the list that are less than 5.\n",
    "\n",
    "a = [1, 1, 2, 3, 5, 8, 13, 21, 34, 55, 89]\n",
    "for i in a:\n",
    "    if i<5:\n",
    "        print(i)"
   ]
  },
  {
   "cell_type": "code",
   "execution_count": null,
   "id": "f208d7d2",
   "metadata": {},
   "outputs": [],
   "source": []
  }
 ],
 "metadata": {
  "kernelspec": {
   "display_name": "Python 3",
   "language": "python",
   "name": "python3"
  },
  "language_info": {
   "codemirror_mode": {
    "name": "ipython",
    "version": 3
   },
   "file_extension": ".py",
   "mimetype": "text/x-python",
   "name": "python",
   "nbconvert_exporter": "python",
   "pygments_lexer": "ipython3",
   "version": "3.8.8"
  }
 },
 "nbformat": 4,
 "nbformat_minor": 5
}
